{
 "cells": [
  {
   "cell_type": "code",
   "execution_count": 0,
   "metadata": {
    "colab": {
     "base_uri": "https://localhost:8080/",
     "height": 34
    },
    "colab_type": "code",
    "id": "qnyoJE98UQaz",
    "outputId": "794997ec-7734-4182-af3b-acd74202867c"
   },
   "outputs": [
    {
     "name": "stdout",
     "output_type": "stream",
     "text": [
      "2.2.0\n"
     ]
    }
   ],
   "source": [
    "import tensorflow as tf\n",
    "import numpy as np\n",
    "import random\n",
    "import math\n",
    "from tensorflow import keras\n",
    "import matplotlib.pyplot as plt\n",
    "from tqdm import tqdm\n",
    "print(tf.__version__)"
   ]
  },
  {
   "cell_type": "markdown",
   "metadata": {
    "colab_type": "text",
    "id": "MVYw6RyasdqU"
   },
   "source": [
    "**Loading the dataset**"
   ]
  },
  {
   "cell_type": "code",
   "execution_count": 0,
   "metadata": {
    "colab": {
     "base_uri": "https://localhost:8080/",
     "height": 50
    },
    "colab_type": "code",
    "id": "7TJ-irvRU1md",
    "outputId": "971a105e-916a-40e6-ce45-d27da72158a0"
   },
   "outputs": [
    {
     "name": "stdout",
     "output_type": "stream",
     "text": [
      "Downloading data from https://storage.googleapis.com/tensorflow/tf-keras-datasets/mnist.npz\n",
      "11493376/11490434 [==============================] - 0s 0us/step\n"
     ]
    }
   ],
   "source": [
    "\n",
    "mnist = tf.keras.datasets.mnist\n",
    "(training_images, training_labels), (test_images, test_labels) = mnist.load_data()\n",
    "labrador_retriever_index = 208\n",
    "#labels_training/labels_test store the one hot encoding of the number class\n",
    "labels_training= np.zeros((60000,10))\n",
    "labels_test= np.zeros((10000,10))\n",
    "for i in range(60000):\n",
    "  labels_training[i,training_labels[i]] = 1\n",
    "for i in range(10000):\n",
    "  labels_test[i,test_labels[i]] = 1\n",
    "  "
   ]
  },
  {
   "cell_type": "markdown",
   "metadata": {
    "colab_type": "text",
    "id": "oHkrwUybs0VK"
   },
   "source": [
    "**Validating the shapes of the matrices** "
   ]
  },
  {
   "cell_type": "code",
   "execution_count": 0,
   "metadata": {
    "colab": {
     "base_uri": "https://localhost:8080/",
     "height": 101
    },
    "colab_type": "code",
    "id": "eluqh6BfU17Y",
    "outputId": "9f892561-be7b-495d-9d0e-bb4dbbfef7a0"
   },
   "outputs": [
    {
     "name": "stdout",
     "output_type": "stream",
     "text": [
      "training_images.shape:  (60000, 28, 28, 1)\n",
      "test_images.shape:  (10000, 28, 28, 1)\n",
      "test_labels.shape:  (10000,)\n",
      "labels_test.shape:  (10000, 10)\n",
      "labels_training.shape:  (60000, 10)\n"
     ]
    }
   ],
   "source": [
    "\n",
    "print(\"training_images.shape: \",training_images.shape)\n",
    "print(\"test_images.shape: \",test_images.shape)\n",
    "print(\"test_labels.shape: \",test_labels.shape)\n",
    "print(\"labels_test.shape: \",labels_test.shape)\n",
    "print(\"labels_training.shape: \",labels_training.shape)\n"
   ]
  },
  {
   "cell_type": "markdown",
   "metadata": {
    "colab_type": "text",
    "id": "m3OhQLv-tckD"
   },
   "source": [
    "**Training and testing the model** "
   ]
  },
  {
   "cell_type": "code",
   "execution_count": 0,
   "metadata": {
    "colab": {
     "base_uri": "https://localhost:8080/",
     "height": 655
    },
    "colab_type": "code",
    "id": "FjVBGYMrU2Ly",
    "outputId": "a76256d4-2fcf-43bb-f4ba-a5a7fcdbffe4"
   },
   "outputs": [
    {
     "name": "stdout",
     "output_type": "stream",
     "text": [
      "Model: \"sequential\"\n",
      "_________________________________________________________________\n",
      "Layer (type)                 Output Shape              Param #   \n",
      "=================================================================\n",
      "conv2d (Conv2D)              (None, 26, 26, 32)        320       \n",
      "_________________________________________________________________\n",
      "max_pooling2d (MaxPooling2D) (None, 13, 13, 32)        0         \n",
      "_________________________________________________________________\n",
      "conv2d_1 (Conv2D)            (None, 11, 11, 64)        18496     \n",
      "_________________________________________________________________\n",
      "max_pooling2d_1 (MaxPooling2 (None, 5, 5, 64)          0         \n",
      "_________________________________________________________________\n",
      "flatten (Flatten)            (None, 1600)              0         \n",
      "_________________________________________________________________\n",
      "dropout (Dropout)            (None, 1600)              0         \n",
      "_________________________________________________________________\n",
      "dense (Dense)                (None, 128)               204928    \n",
      "_________________________________________________________________\n",
      "dropout_1 (Dropout)          (None, 128)               0         \n",
      "_________________________________________________________________\n",
      "dense_1 (Dense)              (None, 10)                1290      \n",
      "=================================================================\n",
      "Total params: 225,034\n",
      "Trainable params: 225,034\n",
      "Non-trainable params: 0\n",
      "_________________________________________________________________\n",
      "Epoch 1/5\n",
      "1875/1875 [==============================] - 11s 6ms/step - loss: 0.1769 - accuracy: 0.9451\n",
      "Epoch 2/5\n",
      "1875/1875 [==============================] - 11s 6ms/step - loss: 0.0681 - accuracy: 0.9784\n",
      "Epoch 3/5\n",
      "1875/1875 [==============================] - 11s 6ms/step - loss: 0.0527 - accuracy: 0.9836\n",
      "Epoch 4/5\n",
      "1875/1875 [==============================] - 11s 6ms/step - loss: 0.0423 - accuracy: 0.9865\n",
      "Epoch 5/5\n",
      "1875/1875 [==============================] - 11s 6ms/step - loss: 0.0393 - accuracy: 0.9876\n",
      "313/313 [==============================] - 1s 4ms/step - loss: 0.0248 - accuracy: 0.9928\n",
      "Test Accuracy= 99.27999973297119 %\n"
     ]
    }
   ],
   "source": [
    "# reshaping the images and normalizing pixels\n",
    "training_images=training_images.reshape(60000, 28, 28, 1)\n",
    "training_images=training_images / 255.0\n",
    "test_images = test_images.reshape(10000, 28, 28, 1)\n",
    "test_images=test_images/255.0\n",
    "\n",
    "# layers of model\n",
    "model = tf.keras.models.Sequential([\n",
    "  tf.keras.layers.Conv2D(32, (3,3), activation='relu', input_shape=(28, 28, 1)),\n",
    "  tf.keras.layers.MaxPooling2D(2, 2),\n",
    "  tf.keras.layers.Conv2D(64, (3,3), activation='relu'),\n",
    "  tf.keras.layers.MaxPooling2D(2,2),\n",
    "  tf.keras.layers.Flatten(),\n",
    "  tf.keras.layers.Dropout(0.3),\n",
    "  tf.keras.layers.Dense(128, activation='relu'),\n",
    "  tf.keras.layers.Dropout(0.3),\n",
    "  tf.keras.layers.Dense(10, activation='softmax')\n",
    "])\n",
    "\n",
    "model.compile(optimizer='adam', loss='categorical_crossentropy', metrics=['accuracy'])\n",
    "model.summary()\n",
    "#training                                                                                 ### gives a table of all the layers in the CNN\n",
    "model.fit(training_images, labels_training, epochs=5)\n",
    "#testing\n",
    "test_loss,test_acc = model.evaluate(test_images, labels_test)\n",
    "print(\"Test Accuracy=\",test_acc*100,\"%\")"
   ]
  },
  {
   "cell_type": "code",
   "execution_count": 0,
   "metadata": {
    "colab": {
     "base_uri": "https://localhost:8080/",
     "height": 121
    },
    "colab_type": "code",
    "id": "r7ZExm-mzwv6",
    "outputId": "ff7a0907-3f90-4dc1-b720-8ac2551161ba"
   },
   "outputs": [
    {
     "name": "stdout",
     "output_type": "stream",
     "text": [
      "Go to this URL in a browser: https://accounts.google.com/o/oauth2/auth?client_id=947318989803-6bn6qk8qdgf4n4g3pfee6491hc0brc4i.apps.googleusercontent.com&redirect_uri=urn%3aietf%3awg%3aoauth%3a2.0%3aoob&response_type=code&scope=email%20https%3a%2f%2fwww.googleapis.com%2fauth%2fdocs.test%20https%3a%2f%2fwww.googleapis.com%2fauth%2fdrive%20https%3a%2f%2fwww.googleapis.com%2fauth%2fdrive.photos.readonly%20https%3a%2f%2fwww.googleapis.com%2fauth%2fpeopleapi.readonly\n",
      "\n",
      "Enter your authorization code:\n",
      "··········\n",
      "Mounted at /content/drive\n"
     ]
    }
   ],
   "source": [
    "from google.colab import drive\n",
    "drive.mount('/content/drive')"
   ]
  },
  {
   "cell_type": "code",
   "execution_count": 0,
   "metadata": {
    "colab": {
     "base_uri": "https://localhost:8080/",
     "height": 34
    },
    "colab_type": "code",
    "id": "mmsGycXrz50C",
    "outputId": "b12fa520-e9b8-4d46-f3b1-05e23412980f"
   },
   "outputs": [
    {
     "name": "stdout",
     "output_type": "stream",
     "text": [
      "INFO:tensorflow:Assets written to: /content/drive/My Drive/GoogleColab/assets\n"
     ]
    }
   ],
   "source": [
    "model.save('/content/drive/My Drive/GoogleColab')"
   ]
  },
  {
   "cell_type": "code",
   "execution_count": 0,
   "metadata": {
    "colab": {},
    "colab_type": "code",
    "id": "B9kG4qwU0e3w"
   },
   "outputs": [],
   "source": [
    "model=tf.keras.models.load_model('/content/drive/My Drive/GoogleColab')"
   ]
  },
  {
   "cell_type": "markdown",
   "metadata": {
    "colab_type": "text",
    "id": "2HjHfMEUtvIc"
   },
   "source": [
    "**Helper Functions**"
   ]
  },
  {
   "cell_type": "code",
   "execution_count": 0,
   "metadata": {
    "colab": {},
    "colab_type": "code",
    "id": "zrnypLVSU2bq"
   },
   "outputs": [],
   "source": [
    "# image initially has shape (28,28,1)\n",
    "def downsize(image):\n",
    "  image = tf.reshape(image, (28, 28))\n",
    "  return image\n",
    "\n",
    "def upsize(image):\n",
    "  image=tf.reshape(image,(28,28,1))\n",
    "  return image\n",
    "\n",
    "# Helper function to extract labels from probability vector with shape (1,10)\n",
    "def get_image_label_confidence(probs):\n",
    "  maximum=0\n",
    "  label=0\n",
    "  for i in range(10):\n",
    "    if probs(1,i)>max:\n",
    "      maximum=probs(1,i)\n",
    "      label=i\n",
    "  return maximum*100,label\n",
    "\n",
    "#predictions of a image(probability vector)\n",
    "def predict(model,image):\n",
    "  input_image=tf.reshape(image,(1,28,28,1))\n",
    "  preds=model.predict(input_image)\n",
    "  return preds\n",
    "\n",
    "#printing an image from the training set and its label\n",
    "def print_random_image(index,training_images):\n",
    "  image=downsize(training_images[index])\n",
    "  print(image.shape)\n",
    "  plt.imshow(image,cmap='Greys')\n",
    "  print(labels_training[index,:])\n",
    "  "
   ]
  },
  {
   "cell_type": "code",
   "execution_count": 0,
   "metadata": {
    "colab": {
     "base_uri": "https://localhost:8080/",
     "height": 298
    },
    "colab_type": "code",
    "id": "x3-TBZqXU2oy",
    "outputId": "b17fe9e6-65e2-4be3-e687-e638b7078b58"
   },
   "outputs": [
    {
     "name": "stdout",
     "output_type": "stream",
     "text": [
      "(28, 28)\n",
      "[0. 0. 1. 0. 0. 0. 0. 0. 0. 0.]\n"
     ]
    },
    {
     "data": {
      "image/png": "[encoded data removed]",
      "text/plain": [
       "<Figure size 432x288 with 1 Axes>"
      ]
     },
     "metadata": {
      "needs_background": "light",
      "tags": []
     },
     "output_type": "display_data"
    }
   ],
   "source": [
    "print_random_image(122,training_images)\n"
   ]
  },
  {
   "cell_type": "markdown",
   "metadata": {
    "colab_type": "text",
    "id": "qJix2wWVt3x1"
   },
   "source": [
    "**Function for taking gradients of the cost wrt the input image**"
   ]
  },
  {
   "cell_type": "code",
   "execution_count": 0,
   "metadata": {
    "colab": {},
    "colab_type": "code",
    "id": "gCHijipPU3Aa"
   },
   "outputs": [],
   "source": [
    "\n",
    "loss_object = tf.keras.losses.CategoricalCrossentropy()\n",
    "def create_adversarial_pattern(input_image, ground_truth):\n",
    "  input_image=tf.reshape(input_image,(1,28,28,1))\n",
    "  with tf.GradientTape() as tape:\n",
    "    tape.watch(input_image)\n",
    "    prediction = tf.convert_to_tensor(model(input_image))\n",
    "   \n",
    "    loss = loss_object(ground_truth,prediction)\n",
    "       \n",
    "  #Get the gradients of the loss w.r.t to the input image.\n",
    "  gradient = tape.gradient(loss,input_image)\n",
    "  \n",
    "  #Get the sign of the gradients to create the perturbation\n",
    "  signed_grad = tf.sign(gradient)\n",
    "  return signed_grad"
   ]
  },
  {
   "cell_type": "markdown",
   "metadata": {
    "colab_type": "text",
    "id": "YvfBBrXLuDWV"
   },
   "source": [
    "**Helper Functions**"
   ]
  },
  {
   "cell_type": "code",
   "execution_count": 0,
   "metadata": {
    "colab": {},
    "colab_type": "code",
    "id": "YJdImJY-zegR"
   },
   "outputs": [],
   "source": [
    "# returns the number from the prediction\n",
    "def find_label(prediction):\n",
    "  max=-1\n",
    "  index=-1\n",
    "  for i in range(10):\n",
    "    if prediction[0,i]>max:\n",
    "      max=prediction[0,i]\n",
    "      index=i\n",
    "  return index\n",
    "\n",
    "def get_gradients(test_images,labels_test,model):\n",
    "  gradients=[]\n",
    "  for i in tqdm(range(test_images.shape[0])):\n",
    "    image=test_images[i]\n",
    "    image=tf.reshape(image,(1,28,28,1))\n",
    "    label=tf.convert_to_tensor(labels_test[i,:])\n",
    "    label=tf.reshape(label,(1,10))\n",
    "    perturbation= create_adversarial_pattern(image,label)\n",
    "    gradients.append(perturbation)\n",
    "  return gradients\n",
    "\n",
    "\n",
    "#finding the accuracy of the model on the adversarial examples of the test set and finding the misclassified examples\n",
    "epsilons = [0, .05, .1, .15]\n",
    "def model_accuracy_on_adversarial_examples(test_images,gradients,test_labels,epsilons,model):\n",
    "  counts=[]\n",
    "  misclassified_indices_list=[]\n",
    "  misclassified_images_list=[]\n",
    "  predictions_list=[]\n",
    "  for i in range(len(epsilons)):\n",
    "    count=0\n",
    "    misclassified_indices=[]   #indices of the test examples which were earlier detected correctly but not after adding perturbation\n",
    "    misclassified_images=[]    #test images which were earlier detected correctly but not after adding perturbation\n",
    "    predictions=[]                    #predicted labels of the misclassified images\n",
    "    eps=epsilons[i]\n",
    "    for i in tqdm(range(10000)):\n",
    "      image=test_images[i]\n",
    "      image=tf.reshape(image,(1,28,28,1))\n",
    "      adv_x=image+eps*gradients[i]\n",
    "      pred=model(adv_x)\n",
    "      adv_label=find_label(pred)\n",
    "      original_label=find_label(model(image))\n",
    "    \n",
    "      if adv_label==test_labels[i]:\n",
    "        count=count+1\n",
    "      elif original_label==test_labels[i]:\n",
    "        misclassified_indices.append(i)\n",
    "        misclassified_images.append(adv_x)\n",
    "        predictions.append(adv_label)\n",
    "    counts.append(count)\n",
    "    misclassified_indices_list.append(misclassified_indices)\n",
    "    misclassified_images_list.append(misclassified_images)\n",
    "    predictions_list.append(predictions)\n",
    "    print(\"Test Accuracy for epsilon= {} : {}\".format(eps,count/100))\n",
    "  return misclassified_indices_list,misclassified_images_list,predictions_list,counts\n"
   ]
  },
  {
   "cell_type": "markdown",
   "metadata": {
    "colab_type": "text",
    "id": "6CrXmz8KuH61"
   },
   "source": [
    "**Calculating Gradients with respect to test images**"
   ]
  },
  {
   "cell_type": "code",
   "execution_count": 0,
   "metadata": {
    "colab": {
     "base_uri": "https://localhost:8080/",
     "height": 34
    },
    "colab_type": "code",
    "id": "bmio3QbY3G7S",
    "outputId": "761c1af2-00a4-4ebc-ead7-4651aadef8f0"
   },
   "outputs": [
    {
     "name": "stderr",
     "output_type": "stream",
     "text": [
      "100%|██████████| 10000/10000 [02:01<00:00, 82.52it/s]\n"
     ]
    }
   ],
   "source": [
    "gradients= get_gradients(test_images,labels_test,model)"
   ]
  },
  {
   "cell_type": "markdown",
   "metadata": {
    "colab_type": "text",
    "id": "ondzApWFuRUO"
   },
   "source": [
    "**Generating and Testing Adversarial Examples for different values of epsilon**"
   ]
  },
  {
   "cell_type": "code",
   "execution_count": 0,
   "metadata": {
    "colab": {
     "base_uri": "https://localhost:8080/",
     "height": 151
    },
    "colab_type": "code",
    "id": "oZ42o7zJpaWS",
    "outputId": "fac15609-8cee-4b85-9e9d-0d0ddfa78f88"
   },
   "outputs": [
    {
     "name": "stderr",
     "output_type": "stream",
     "text": [
      "100%|██████████| 10000/10000 [03:16<00:00, 50.94it/s]\n",
      "  0%|          | 6/10000 [00:00<03:03, 54.46it/s]"
     ]
    },
    {
     "name": "stdout",
     "output_type": "stream",
     "text": [
      "Test Accuracy for epsilon= 0 : 99.28\n"
     ]
    },
    {
     "name": "stderr",
     "output_type": "stream",
     "text": [
      "100%|██████████| 10000/10000 [03:15<00:00, 51.15it/s]\n",
      "  0%|          | 6/10000 [00:00<02:56, 56.51it/s]"
     ]
    },
    {
     "name": "stdout",
     "output_type": "stream",
     "text": [
      "Test Accuracy for epsilon= 0.05 : 93.72\n"
     ]
    },
    {
     "name": "stderr",
     "output_type": "stream",
     "text": [
      "100%|██████████| 10000/10000 [03:14<00:00, 51.53it/s]\n",
      "  0%|          | 6/10000 [00:00<03:02, 54.74it/s]"
     ]
    },
    {
     "name": "stdout",
     "output_type": "stream",
     "text": [
      "Test Accuracy for epsilon= 0.1 : 77.88\n"
     ]
    },
    {
     "name": "stderr",
     "output_type": "stream",
     "text": [
      "100%|██████████| 10000/10000 [03:14<00:00, 51.37it/s]"
     ]
    },
    {
     "name": "stdout",
     "output_type": "stream",
     "text": [
      "Test Accuracy for epsilon= 0.15 : 55.98\n"
     ]
    },
    {
     "name": "stderr",
     "output_type": "stream",
     "text": [
      "\n"
     ]
    }
   ],
   "source": [
    "\n",
    "misclassified_indices_list,misclassified_images_list,predictions_list,counts = model_accuracy_on_adversarial_examples(test_images,gradients,test_labels,epsilons,model)"
   ]
  },
  {
   "cell_type": "markdown",
   "metadata": {
    "colab_type": "text",
    "id": "386m7cuvugOj"
   },
   "source": [
    "**Displaying misclassified images for different values of epsilon**"
   ]
  },
  {
   "cell_type": "code",
   "execution_count": 0,
   "metadata": {
    "colab": {
     "base_uri": "https://localhost:8080/",
     "height": 524
    },
    "colab_type": "code",
    "id": "flhODQjYzfDE",
    "outputId": "1a84b7e1-5145-4300-b715-a8ae5e306642"
   },
   "outputs": [
    {
     "name": "stdout",
     "output_type": "stream",
     "text": [
      "0\n"
     ]
    },
    {
     "data": {
      "image/png": "[encoded data removed]",
      "text/plain": [
       "<Figure size 576x720 with 15 Axes>"
      ]
     },
     "metadata": {
      "tags": []
     },
     "output_type": "display_data"
    }
   ],
   "source": [
    "\n",
    "cnt = 0\n",
    "plt.figure(figsize=(8,10))\n",
    "for i in range(len(epsilons)):\n",
    "  if i==0:\n",
    "    print(0)\n",
    "  else:\n",
    "    for j in range(5):\n",
    "      img = downsize(misclassified_images_list[i][j])\n",
    "      cnt += 1\n",
    "      plt.subplot(len(epsilons),5,cnt)\n",
    "      plt.xticks([], [])\n",
    "      plt.yticks([], [])\n",
    "      if j == 0:\n",
    "        plt.ylabel(\"Eps: {}\".format(epsilons[i]), fontsize=14)\n",
    "      plt.title(\"Actual: {} \\n Predicted: {}\".format(test_labels[misclassified_indices_list[i][j]],predictions_list[i][j]) )\n",
    "      plt.imshow(img, cmap=\"gray\")\n",
    "plt.tight_layout()\n",
    "plt.show()\n"
   ]
  },
  {
   "cell_type": "markdown",
   "metadata": {
    "colab_type": "text",
    "id": "hwgW556Tx6yt"
   },
   "source": [
    "**New Training set is created with adversarial examples**"
   ]
  },
  {
   "cell_type": "code",
   "execution_count": 0,
   "metadata": {
    "colab": {},
    "colab_type": "code",
    "id": "1YQDNvqUzfW1"
   },
   "outputs": [],
   "source": [
    "\n",
    "epsilons=[0.05,0.1,0.15]\n",
    "def create_new_training_set(training_images,labels_training,epsilons,gradients_train):\n",
    "\n",
    "  new_training_set_images_list=[]\n",
    "  new_training_set_labels_list=[]\n",
    "  for j in range(len(epsilons)):\n",
    "    print(\"\\n For epsilon = {}\".format(epsilons[j]))\n",
    "    new_training_images=tf.Variable(tf.zeros((120000,28,28,1),dtype=tf.float64))\n",
    "    new_training_labels=tf.Variable(tf.zeros((120000,10),dtype=tf.float64))\n",
    "    new_training_images=new_training_images[0:60000,:,:,:].assign(training_images)\n",
    "    new_training_labels=new_training_labels[0:60000,:].assign(labels_training)\n",
    "    new_training_labels=new_training_labels[60000:120000,:].assign(labels_training)\n",
    "    for i in tqdm(range(60000)):\n",
    "      image=training_images[i]\n",
    "      image=tf.reshape(image,(1,28,28,1))\n",
    "    \n",
    "      adv_x=image+epsilons[j]*gradients_train[i]\n",
    "      new_training_images=new_training_images[i+60000,:,:,:].assign(upsize(adv_x))\n",
    "    new_training_set_images_list.append(new_training_images)\n",
    "    new_training_set_labels_list.append(new_training_labels)\n",
    "  return new_training_set_images_list,new_training_set_labels_list"
   ]
  },
  {
   "cell_type": "code",
   "execution_count": 0,
   "metadata": {
    "colab": {
     "base_uri": "https://localhost:8080/",
     "height": 34
    },
    "colab_type": "code",
    "id": "FjiiefSIIRqA",
    "outputId": "e0ed5c40-ea55-4ade-a0b2-f6e199d6429c"
   },
   "outputs": [
    {
     "name": "stderr",
     "output_type": "stream",
     "text": [
      "100%|██████████| 60000/60000 [12:07<00:00, 82.49it/s]\n"
     ]
    }
   ],
   "source": [
    "gradients_train=get_gradients(training_images,labels_training,model)"
   ]
  },
  {
   "cell_type": "code",
   "execution_count": 0,
   "metadata": {
    "colab": {
     "base_uri": "https://localhost:8080/",
     "height": 168
    },
    "colab_type": "code",
    "id": "LhS80C6EuEWA",
    "outputId": "291dbd47-ba79-46a7-dbf1-83bc85166a85"
   },
   "outputs": [
    {
     "name": "stderr",
     "output_type": "stream",
     "text": [
      "  0%|          | 8/60000 [00:00<12:40, 78.92it/s]"
     ]
    },
    {
     "name": "stdout",
     "output_type": "stream",
     "text": [
      "\n",
      " For epsilon = 0.05\n"
     ]
    },
    {
     "name": "stderr",
     "output_type": "stream",
     "text": [
      "100%|██████████| 60000/60000 [09:43<00:00, 102.79it/s]\n",
      "  0%|          | 12/60000 [00:00<09:01, 110.86it/s]"
     ]
    },
    {
     "name": "stdout",
     "output_type": "stream",
     "text": [
      "\n",
      " For epsilon = 0.1\n"
     ]
    },
    {
     "name": "stderr",
     "output_type": "stream",
     "text": [
      "100%|██████████| 60000/60000 [09:44<00:00, 102.63it/s]\n",
      "  0%|          | 4/60000 [00:00<26:56, 37.10it/s]"
     ]
    },
    {
     "name": "stdout",
     "output_type": "stream",
     "text": [
      "\n",
      " For epsilon = 0.15\n"
     ]
    },
    {
     "name": "stderr",
     "output_type": "stream",
     "text": [
      "100%|██████████| 60000/60000 [09:45<00:00, 102.49it/s]\n"
     ]
    }
   ],
   "source": [
    "new_training_set_images_list,new_training_set_labels_list = create_new_training_set(training_images,labels_training,epsilons,gradients_train)"
   ]
  },
  {
   "cell_type": "markdown",
   "metadata": {
    "colab_type": "text",
    "id": "MzTDr1vDyQ-2"
   },
   "source": [
    "**Training and Testing with new model**"
   ]
  },
  {
   "cell_type": "code",
   "execution_count": 0,
   "metadata": {
    "colab": {
     "base_uri": "https://localhost:8080/",
     "height": 638
    },
    "colab_type": "code",
    "id": "D4cacJBXMysD",
    "outputId": "c71308c8-f697-470e-b15b-5f9675bb2ab5"
   },
   "outputs": [
    {
     "name": "stdout",
     "output_type": "stream",
     "text": [
      "Model: \"sequential_1\"\n",
      "_________________________________________________________________\n",
      "Layer (type)                 Output Shape              Param #   \n",
      "=================================================================\n",
      "conv2d_2 (Conv2D)            (None, 26, 26, 32)        320       \n",
      "_________________________________________________________________\n",
      "max_pooling2d_2 (MaxPooling2 (None, 13, 13, 32)        0         \n",
      "_________________________________________________________________\n",
      "conv2d_3 (Conv2D)            (None, 11, 11, 64)        18496     \n",
      "_________________________________________________________________\n",
      "max_pooling2d_3 (MaxPooling2 (None, 5, 5, 64)          0         \n",
      "_________________________________________________________________\n",
      "flatten_1 (Flatten)          (None, 1600)              0         \n",
      "_________________________________________________________________\n",
      "dropout_2 (Dropout)          (None, 1600)              0         \n",
      "_________________________________________________________________\n",
      "dense_2 (Dense)              (None, 128)               204928    \n",
      "_________________________________________________________________\n",
      "dropout_3 (Dropout)          (None, 128)               0         \n",
      "_________________________________________________________________\n",
      "dense_3 (Dense)              (None, 10)                1290      \n",
      "=================================================================\n",
      "Total params: 225,034\n",
      "Trainable params: 225,034\n",
      "Non-trainable params: 0\n",
      "_________________________________________________________________\n",
      "(120000, 28, 28, 1)\n",
      "<tf.Variable 'UnreadVariable' shape=(120000, 10) dtype=float64, numpy=\n",
      "array([[0., 0., 0., ..., 0., 0., 0.],\n",
      "       [1., 0., 0., ..., 0., 0., 0.],\n",
      "       [0., 0., 0., ..., 0., 0., 0.],\n",
      "       ...,\n",
      "       [0., 0., 0., ..., 0., 0., 0.],\n",
      "       [0., 0., 0., ..., 0., 0., 0.],\n",
      "       [0., 0., 0., ..., 0., 1., 0.]])>\n",
      "(60000, 28, 28, 1)\n",
      "(60000, 10)\n"
     ]
    }
   ],
   "source": [
    "# layers of model\n",
    "model = tf.keras.models.Sequential([\n",
    "  tf.keras.layers.Conv2D(32, (3,3), activation='relu', input_shape=(28, 28, 1)),\n",
    "  tf.keras.layers.MaxPooling2D(2, 2),\n",
    "  tf.keras.layers.Conv2D(64, (3,3), activation='relu'),\n",
    "  tf.keras.layers.MaxPooling2D(2,2),\n",
    "  tf.keras.layers.Flatten(),\n",
    "  tf.keras.layers.Dropout(0.3),\n",
    "  tf.keras.layers.Dense(128, activation='relu'),\n",
    "  tf.keras.layers.Dropout(0.3),\n",
    "  tf.keras.layers.Dense(10, activation='softmax')\n",
    "])\n",
    "\n",
    "model.compile(optimizer='adam', loss='categorical_crossentropy', metrics=['accuracy'])\n",
    "model.summary()                               ### gives a table of all the layers in the CNN\n",
    "print(new_training_set_images_list[1].shape)\n",
    "print(new_training_set_labels_list[1])\n",
    "print(training_images.shape)\n",
    "print(labels_training.shape)"
   ]
  },
  {
   "cell_type": "code",
   "execution_count": 0,
   "metadata": {
    "colab": {
     "base_uri": "https://localhost:8080/",
     "height": 218
    },
    "colab_type": "code",
    "id": "YhU04K4mVzyu",
    "outputId": "1315ed5f-37fd-44ec-da2d-db69045afec4"
   },
   "outputs": [
    {
     "name": "stdout",
     "output_type": "stream",
     "text": [
      "Epoch 1/5\n",
      "3750/3750 [==============================] - 22s 6ms/step - loss: 0.1292 - accuracy: 0.9599\n",
      "Epoch 2/5\n",
      "3750/3750 [==============================] - 22s 6ms/step - loss: 0.0423 - accuracy: 0.9869\n",
      "Epoch 3/5\n",
      "3750/3750 [==============================] - 22s 6ms/step - loss: 0.0318 - accuracy: 0.9901\n",
      "Epoch 4/5\n",
      "3750/3750 [==============================] - 22s 6ms/step - loss: 0.0260 - accuracy: 0.9918\n",
      "Epoch 5/5\n",
      "3750/3750 [==============================] - 22s 6ms/step - loss: 0.0225 - accuracy: 0.9928\n",
      "313/313 [==============================] - 1s 4ms/step - loss: 0.0314 - accuracy: 0.9903\n",
      "Test Accuracy= 99.02999997138977 %\n"
     ]
    }
   ],
   "source": [
    "#training                                                                                 \n",
    "new_training_images=tf.convert_to_tensor(new_training_set_images_list[1])  #adversarial examples with epsilon=0.1 are added in the training set\n",
    "new_training_labels=tf.convert_to_tensor(new_training_set_labels_list[1])\n",
    "model.fit(new_training_images, new_training_labels, epochs=5)\n",
    "#testing\n",
    "test_loss,test_acc = model.evaluate(test_images, labels_test)\n",
    "print(\"Test Accuracy=\",test_acc*100,\"%\")"
   ]
  },
  {
   "cell_type": "markdown",
   "metadata": {
    "colab_type": "text",
    "id": "klbxcHXC4toZ"
   },
   "source": [
    "**Testing Adversarial Examples for different values of epsilon on new model**"
   ]
  },
  {
   "cell_type": "code",
   "execution_count": 0,
   "metadata": {
    "colab": {
     "base_uri": "https://localhost:8080/",
     "height": 118
    },
    "colab_type": "code",
    "id": "WZZCxivCMzIo",
    "outputId": "5b89cbac-9adc-426c-9c25-aa4e2e73a900"
   },
   "outputs": [
    {
     "name": "stderr",
     "output_type": "stream",
     "text": [
      "100%|██████████| 10000/10000 [03:16<00:00, 50.96it/s]\n",
      "  0%|          | 6/10000 [00:00<03:04, 54.09it/s]"
     ]
    },
    {
     "name": "stdout",
     "output_type": "stream",
     "text": [
      "Test Accuracy for epsilon= 0.05 : 99.65\n"
     ]
    },
    {
     "name": "stderr",
     "output_type": "stream",
     "text": [
      "100%|██████████| 10000/10000 [03:15<00:00, 51.08it/s]\n",
      "  0%|          | 5/10000 [00:00<03:20, 49.77it/s]"
     ]
    },
    {
     "name": "stdout",
     "output_type": "stream",
     "text": [
      "Test Accuracy for epsilon= 0.1 : 99.77\n"
     ]
    },
    {
     "name": "stderr",
     "output_type": "stream",
     "text": [
      "100%|██████████| 10000/10000 [03:14<00:00, 51.42it/s]"
     ]
    },
    {
     "name": "stdout",
     "output_type": "stream",
     "text": [
      "Test Accuracy for epsilon= 0.15 : 99.7\n"
     ]
    },
    {
     "name": "stderr",
     "output_type": "stream",
     "text": [
      "\n"
     ]
    }
   ],
   "source": [
    "misclassified_indices_list1,misclassified_images_list1,predictions_list1,counts1 = model_accuracy_on_adversarial_examples(test_images,gradients,test_labels,epsilons,model)"
   ]
  }
 ],
 "metadata": {
  "accelerator": "GPU",
  "colab": {
   "collapsed_sections": [],
   "name": "TENSORFLOW_GNR_PROJECT",
   "provenance": []
  },
  "kernelspec": {
   "display_name": "Python 3",
   "language": "python",
   "name": "python3"
  },
  "language_info": {
   "codemirror_mode": {
    "name": "ipython",
    "version": 3
   },
   "file_extension": ".py",
   "mimetype": "text/x-python",
   "name": "python",
   "nbconvert_exporter": "python",
   "pygments_lexer": "ipython3",
   "version": "3.7.4"
  }
 },
 "nbformat": 4,
 "nbformat_minor": 1
}
